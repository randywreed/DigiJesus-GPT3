{
  "cells": [
    {
      "cell_type": "code",
      "execution_count": null,
      "metadata": {
        "colab": {
          "base_uri": "https://localhost:8080/"
        },
        "id": "stwV2o4HpZlU",
        "outputId": "17335b0a-c670-46de-f7d1-d206c66379f2"
      },
      "outputs": [
        {
          "name": "stdout",
          "output_type": "stream",
          "text": [
            "Collecting openai\n",
            "  Downloading openai-0.16.0.tar.gz (41 kB)\n",
            "\u001b[?25l\r\u001b[K     |████████                        | 10 kB 23.0 MB/s eta 0:00:01\r\u001b[K     |███████████████▉                | 20 kB 21.3 MB/s eta 0:00:01\r\u001b[K     |███████████████████████▊        | 30 kB 16.3 MB/s eta 0:00:01\r\u001b[K     |███████████████████████████████▊| 40 kB 12.9 MB/s eta 0:00:01\r\u001b[K     |████████████████████████████████| 41 kB 181 kB/s \n",
            "\u001b[?25h  Installing build dependencies ... \u001b[?25l\u001b[?25hdone\n",
            "  Getting requirements to build wheel ... \u001b[?25l\u001b[?25hdone\n",
            "    Preparing wheel metadata ... \u001b[?25l\u001b[?25hdone\n",
            "Requirement already satisfied: pandas>=1.2.3 in /usr/local/lib/python3.7/dist-packages (from openai) (1.3.5)\n",
            "Collecting pandas-stubs>=1.1.0.11\n",
            "  Downloading pandas_stubs-1.2.0.53-py3-none-any.whl (162 kB)\n",
            "\u001b[K     |████████████████████████████████| 162 kB 22.7 MB/s \n",
            "\u001b[?25hRequirement already satisfied: tqdm in /usr/local/lib/python3.7/dist-packages (from openai) (4.63.0)\n",
            "Requirement already satisfied: requests>=2.20 in /usr/local/lib/python3.7/dist-packages (from openai) (2.23.0)\n",
            "Requirement already satisfied: openpyxl>=3.0.7 in /usr/local/lib/python3.7/dist-packages (from openai) (3.0.9)\n",
            "Requirement already satisfied: et-xmlfile in /usr/local/lib/python3.7/dist-packages (from openpyxl>=3.0.7->openai) (1.1.0)\n",
            "Requirement already satisfied: numpy>=1.17.3 in /usr/local/lib/python3.7/dist-packages (from pandas>=1.2.3->openai) (1.21.5)\n",
            "Requirement already satisfied: pytz>=2017.3 in /usr/local/lib/python3.7/dist-packages (from pandas>=1.2.3->openai) (2018.9)\n",
            "Requirement already satisfied: python-dateutil>=2.7.3 in /usr/local/lib/python3.7/dist-packages (from pandas>=1.2.3->openai) (2.8.2)\n",
            "Requirement already satisfied: typing-extensions>=3.7.4.3 in /usr/local/lib/python3.7/dist-packages (from pandas-stubs>=1.1.0.11->openai) (3.10.0.2)\n",
            "Requirement already satisfied: six>=1.5 in /usr/local/lib/python3.7/dist-packages (from python-dateutil>=2.7.3->pandas>=1.2.3->openai) (1.15.0)\n",
            "Requirement already satisfied: idna<3,>=2.5 in /usr/local/lib/python3.7/dist-packages (from requests>=2.20->openai) (2.10)\n",
            "Requirement already satisfied: urllib3!=1.25.0,!=1.25.1,<1.26,>=1.21.1 in /usr/local/lib/python3.7/dist-packages (from requests>=2.20->openai) (1.24.3)\n",
            "Requirement already satisfied: chardet<4,>=3.0.2 in /usr/local/lib/python3.7/dist-packages (from requests>=2.20->openai) (3.0.4)\n",
            "Requirement already satisfied: certifi>=2017.4.17 in /usr/local/lib/python3.7/dist-packages (from requests>=2.20->openai) (2021.10.8)\n",
            "Building wheels for collected packages: openai\n",
            "  Building wheel for openai (PEP 517) ... \u001b[?25l\u001b[?25hdone\n",
            "  Created wheel for openai: filename=openai-0.16.0-py3-none-any.whl size=50784 sha256=16525f3f4b98be3f1448078f9045e8cd3693ac2e424534fa2327e1b6fbe4b74e\n",
            "  Stored in directory: /root/.cache/pip/wheels/c1/f3/50/adfd6d5b5a417fef651921a8c5f77c0e644265ae000f3fb69b\n",
            "Successfully built openai\n",
            "Installing collected packages: pandas-stubs, openai\n",
            "Successfully installed openai-0.16.0 pandas-stubs-1.2.0.53\n"
          ]
        }
      ],
      "source": [
        "#!pip install openai"
      ]
    },
    {
      "cell_type": "code",
      "execution_count": 2,
      "metadata": {
        "colab": {
          "base_uri": "https://localhost:8080/"
        },
        "id": "lmgIMmGWoUz_",
        "outputId": "948cbd55-6a87-4688-dc0e-4c490ff93ea8"
      },
      "outputs": [
        {
          "name": "stdout",
          "output_type": "stream",
          "text": [
            "Mounted at /content/gdrive\n"
          ]
        }
      ],
      "source": [
        "from google.colab import drive\n",
        "drive.mount('/content/gdrive')"
      ]
    },
    {
      "cell_type": "code",
      "execution_count": 1,
      "metadata": {
        "id": "0-ql0moGoaXb"
      },
      "outputs": [],
      "source": [
        "import openai\n",
        "import pandas as pd\n",
        "import configparser\n",
        "from openai.api_resources import engine"
      ]
    },
    {
      "cell_type": "code",
      "execution_count": 2,
      "metadata": {
        "id": "mAcPKuV4ppuw"
      },
      "outputs": [],
      "source": [
        "config=configparser.ConfigParser()\n",
        "config.read('openai_api_key.ini')\n",
        "API_KEY=config['DEFAULT']['openai_api_key']"
      ]
    },
    {
      "cell_type": "code",
      "execution_count": 3,
      "metadata": {
        "id": "7OSy0p_kudmk"
      },
      "outputs": [],
      "source": [
        "df=pd.read_pickle('Jesus_sayings_final_v6.pkl')"
      ]
    },
    {
      "cell_type": "code",
      "execution_count": 18,
      "metadata": {
        "colab": {
          "base_uri": "https://localhost:8080/",
          "height": 206
        },
        "id": "-RSTgbaaxXut",
        "outputId": "087ab26b-09d0-4ae2-eead-a082b383a337"
      },
      "outputs": [
        {
          "data": {
            "text/html": [
              "<div>\n",
              "<style scoped>\n",
              "    .dataframe tbody tr th:only-of-type {\n",
              "        vertical-align: middle;\n",
              "    }\n",
              "\n",
              "    .dataframe tbody tr th {\n",
              "        vertical-align: top;\n",
              "    }\n",
              "\n",
              "    .dataframe thead th {\n",
              "        text-align: right;\n",
              "    }\n",
              "</style>\n",
              "<table border=\"1\" class=\"dataframe\">\n",
              "  <thead>\n",
              "    <tr style=\"text-align: right;\">\n",
              "      <th></th>\n",
              "      <th>Version</th>\n",
              "      <th>Book</th>\n",
              "      <th>Chapter</th>\n",
              "      <th>Verse</th>\n",
              "      <th>Text</th>\n",
              "    </tr>\n",
              "  </thead>\n",
              "  <tbody>\n",
              "    <tr>\n",
              "      <th>0</th>\n",
              "      <td>AKJV</td>\n",
              "      <td>Matthew</td>\n",
              "      <td>3</td>\n",
              "      <td>15</td>\n",
              "      <td>And Jesus answering said unto him, Suffer it t...</td>\n",
              "    </tr>\n",
              "    <tr>\n",
              "      <th>1</th>\n",
              "      <td>AKJV</td>\n",
              "      <td>Matthew</td>\n",
              "      <td>4</td>\n",
              "      <td>4</td>\n",
              "      <td>But he answered and said, It is written, Man s...</td>\n",
              "    </tr>\n",
              "    <tr>\n",
              "      <th>2</th>\n",
              "      <td>AKJV</td>\n",
              "      <td>Matthew</td>\n",
              "      <td>4</td>\n",
              "      <td>7</td>\n",
              "      <td>Jesus said unto him, It is written again, Thou...</td>\n",
              "    </tr>\n",
              "    <tr>\n",
              "      <th>3</th>\n",
              "      <td>AKJV</td>\n",
              "      <td>Matthew</td>\n",
              "      <td>4</td>\n",
              "      <td>10</td>\n",
              "      <td>Then saith Jesus unto him, Get thee hence, Sat...</td>\n",
              "    </tr>\n",
              "    <tr>\n",
              "      <th>4</th>\n",
              "      <td>AKJV</td>\n",
              "      <td>Matthew</td>\n",
              "      <td>4</td>\n",
              "      <td>17</td>\n",
              "      <td>From that time Jesus began to preach, and to s...</td>\n",
              "    </tr>\n",
              "    <tr>\n",
              "      <th>5</th>\n",
              "      <td>AKJV</td>\n",
              "      <td>Matthew</td>\n",
              "      <td>4</td>\n",
              "      <td>19</td>\n",
              "      <td>And he saith unto them, Follow me, and I will ...</td>\n",
              "    </tr>\n",
              "    <tr>\n",
              "      <th>6</th>\n",
              "      <td>AKJV</td>\n",
              "      <td>Matthew</td>\n",
              "      <td>5</td>\n",
              "      <td>3</td>\n",
              "      <td>Blessed are the poor in spirit: for theirs is ...</td>\n",
              "    </tr>\n",
              "    <tr>\n",
              "      <th>7</th>\n",
              "      <td>AKJV</td>\n",
              "      <td>Matthew</td>\n",
              "      <td>5</td>\n",
              "      <td>4</td>\n",
              "      <td>Blessed are they that mourn: for they shall be...</td>\n",
              "    </tr>\n",
              "    <tr>\n",
              "      <th>8</th>\n",
              "      <td>AKJV</td>\n",
              "      <td>Matthew</td>\n",
              "      <td>5</td>\n",
              "      <td>5</td>\n",
              "      <td>Blessed are the meek: for they shall inherit t...</td>\n",
              "    </tr>\n",
              "    <tr>\n",
              "      <th>9</th>\n",
              "      <td>AKJV</td>\n",
              "      <td>Matthew</td>\n",
              "      <td>5</td>\n",
              "      <td>6</td>\n",
              "      <td>Blessed are they which do hunger and thirst af...</td>\n",
              "    </tr>\n",
              "  </tbody>\n",
              "</table>\n",
              "</div>"
            ],
            "text/plain": [
              "  Version     Book Chapter Verse  \\\n",
              "0    AKJV  Matthew       3    15   \n",
              "1    AKJV  Matthew       4     4   \n",
              "2    AKJV  Matthew       4     7   \n",
              "3    AKJV  Matthew       4    10   \n",
              "4    AKJV  Matthew       4    17   \n",
              "5    AKJV  Matthew       4    19   \n",
              "6    AKJV  Matthew       5     3   \n",
              "7    AKJV  Matthew       5     4   \n",
              "8    AKJV  Matthew       5     5   \n",
              "9    AKJV  Matthew       5     6   \n",
              "\n",
              "                                                Text  \n",
              "0  And Jesus answering said unto him, Suffer it t...  \n",
              "1  But he answered and said, It is written, Man s...  \n",
              "2  Jesus said unto him, It is written again, Thou...  \n",
              "3  Then saith Jesus unto him, Get thee hence, Sat...  \n",
              "4  From that time Jesus began to preach, and to s...  \n",
              "5  And he saith unto them, Follow me, and I will ...  \n",
              "6  Blessed are the poor in spirit: for theirs is ...  \n",
              "7  Blessed are they that mourn: for they shall be...  \n",
              "8  Blessed are the meek: for they shall inherit t...  \n",
              "9  Blessed are they which do hunger and thirst af...  "
            ]
          },
          "execution_count": 18,
          "metadata": {},
          "output_type": "execute_result"
        }
      ],
      "source": [
        "#show the first 10 lines of the dataframe\n",
        "df.head(10)"
      ]
    },
    {
      "cell_type": "code",
      "execution_count": 6,
      "metadata": {
        "id": "0L6-qTROqPpV"
      },
      "outputs": [],
      "source": [
        "def send_openai(quote):\n",
        "  openai.api_key=API_KEY\n",
        "  response = openai.Completion.create(\n",
        "    model=\"ada:ft-appalachian-state-university-rel-st-2022-01-31-21-03-21\",\n",
        "    prompt=\"Extract the quote from the following passage:\\n\"+quote+\"\\nQuote:\",\n",
        "    temperature=0.7,\n",
        "    max_tokens=100,\n",
        "    top_p=1,\n",
        "    frequency_penalty=0,\n",
        "    presence_penalty=0,\n",
        "    stop=[\"END\"]\n",
        "  )\n",
        "  # trim excess spaces from response['choices'][0]['text']\n",
        "  return response['choices'][0]['text'].strip()\n"
      ]
    },
    {
      "cell_type": "code",
      "execution_count": 7,
      "metadata": {
        "colab": {
          "base_uri": "https://localhost:8080/"
        },
        "id": "fZlRMxyXJQNZ",
        "outputId": "9e7c561d-600d-47b7-cc37-b51f0c2be00d"
      },
      "outputs": [
        {
          "name": "stdout",
          "output_type": "stream",
          "text": [
            "Jesus said unto him, It is written again, Thou shalt not tempt the Lord thy God.\n",
            "It is written again, Thou shalt not tempt the Lord thy God.\n"
          ]
        }
      ],
      "source": [
        "row=df.iloc[2]\n",
        "print(row['Text'])\n",
        "response=send_openai(row['Text'])\n",
        "print(response)"
      ]
    },
    {
      "cell_type": "code",
      "execution_count": 27,
      "metadata": {
        "colab": {
          "base_uri": "https://localhost:8080/",
          "height": 54
        },
        "id": "HIUpGE_SJwCT",
        "outputId": "9a6da2de-3497-4899-d695-ec5087979fc6"
      },
      "outputs": [
        {
          "data": {
            "application/vnd.google.colaboratory.intrinsic+json": {
              "type": "string"
            },
            "text/plain": [
              "' And Jesus answering said unto him, Suffer it to be so now: for thus it becometh us to fulfil all righteousness. '"
            ]
          },
          "execution_count": 27,
          "metadata": {},
          "output_type": "execute_result"
        }
      ],
      "source": [
        "r=response[\"choices\"][0]['text']\n",
        "r"
      ]
    },
    {
      "cell_type": "code",
      "execution_count": 19,
      "metadata": {
        "colab": {
          "base_uri": "https://localhost:8080/",
          "height": 690
        },
        "id": "ejExAujPxImD",
        "outputId": "94611d24-97d5-46e3-8c2f-9694d4516324"
      },
      "outputs": [
        {
          "name": "stdout",
          "output_type": "stream",
          "text": [
            "And Jesus answering said unto him, Suffer it to be so now: for thus it becometh us to fulfil all righteousness. Then he suffered him. \n",
            "And Jesus answering said unto him, Suffer it to be so now: for thus it becometh us to fulfil all righteousness.\n",
            "len of text=26 len of quote=21\n",
            "error=False\n",
            "pausing for 1 second\n",
            "---------------\n",
            "\n",
            "But he answered and said, It is written, Man shall not live by bread alone, but by every word that proceedeth out of the mouth of God.\n",
            "It is written, Man shall not live by bread alone, but by every word that proceedeth out of the mouth of God.\n",
            "len of text=27 len of quote=22\n",
            "error=False\n",
            "pausing for 1 second\n",
            "---------------\n",
            "\n",
            "Jesus said unto him, It is written again, Thou shalt not tempt the Lord thy God.\n",
            "It is written again, Thou shalt not tempt the Lord thy God.\n",
            "len of text=16 len of quote=12\n",
            "error=False\n",
            "pausing for 1 second\n",
            "---------------\n",
            "\n",
            "Then saith Jesus unto him, Get thee hence, Satan: for it is written, Thou shalt worship the Lord thy God, and him only shalt thou serve. \n",
            "Then saith Jesus unto him, Get thee hence, Satan: for it is written, Thou shalt worship the Lord thy God, and him only shalt thou serve.\n",
            "len of text=27 len of quote=26\n",
            "error=True\n",
            "pausing for 1 second\n",
            "---------------\n",
            "\n",
            "From that time Jesus began to preach, and to say, Repent: for the kingdom of heaven is at hand.\n",
            "\n",
            "len of text=19 len of quote=1\n",
            "error=False\n",
            "pausing for 1 second\n",
            "---------------\n",
            "\n",
            "And he saith unto them, Follow me, and I will make you fishers of men. \n",
            "Follow me, and I will make you fishers of men.\n",
            "len of text=16 len of quote=10\n",
            "error=False\n",
            "pausing for 1 second\n",
            "---------------\n",
            "\n",
            "Blessed are the poor in spirit: for theirs is the kingdom of heaven.\n",
            "Blessed are the poor in spirit: for theirs is the kingdom of heaven.\n",
            "len of text=13 len of quote=13\n",
            "error=True\n",
            "pausing for 1 second\n",
            "---------------\n",
            "\n",
            "Blessed are they that mourn: for they shall be comforted.\n",
            "Blessed are those who weep and make mourning. For they shall be comforted.\n",
            "###\n",
            "\n",
            " Blessed are those who weep and make mourning. For they shall be comforted.\n",
            "len of text=10 len of quote=26\n",
            "error=False\n",
            "pausing for 1 second\n",
            "---------------\n",
            "\n",
            "Blessed are the meek: for they shall inherit the earth.\n",
            "Blessed are the meek: for they shall inherit the earth.\n",
            "len of text=10 len of quote=10\n",
            "error=True\n",
            "pausing for 1 second\n",
            "---------------\n",
            "\n",
            "Blessed are they which do hunger and thirst after righteousness: for they shall be filled.\n",
            "Blessed are they which do hunger and thirst after righteousness: for they shall be filled.\n",
            "len of text=15 len of quote=15\n",
            "error=True\n",
            "pausing for 1 second\n",
            "---------------\n",
            "\n",
            "Blessed are the merciful: for they shall obtain mercy.\n",
            "Blessed are the merciful: for they shall obtain mercy.\n",
            "len of text=9 len of quote=9\n",
            "error=True\n",
            "pausing for 1 second\n"
          ]
        }
      ],
      "source": [
        "import sys, time\n",
        "out=[]\n",
        "stop=False\n",
        "for idx,row in df.iterrows():\n",
        "  print(row['Text'])\n",
        "  quote=send_openai(row['Text'])\n",
        "  print(quote)\n",
        "  print(f\"len of text={len(row['Text'].split(' '))} len of quote={len(quote.split(' '))}\")\n",
        "  if len(quote.split(' ')) in range(len(row['Text'].split(' '))-2,len(row['Text'].split(' '))+2):\n",
        "    qerror=True\n",
        "  else:\n",
        "    qerror=False\n",
        "  print(f'error={qerror}')\n",
        "  if stop==False:\n",
        "    #pause for 1 second\n",
        "    print('pausing for 1 second')\n",
        "    sys.stdout.flush()\n",
        "    time.sleep(1)\n",
        "    x=input(\"Press c to continue or x to exit\")\n",
        "    if x=='x':\n",
        "      stop=True\n",
        "      break\n",
        "    if x==\"c\":\n",
        "      stop=True\n",
        "    if x==\"x\":\n",
        "      sys.exit(0)\n",
        "  out.append([{'Version':row['Version'],'Book':row['Book'],'Chapter':row['Chapter'],'Verse':row['Verse'],'Text':row['Text'],'Quote':quote,'Error':qerror}])\n",
        "  print(\"---------------\\n\")\n",
        "  quote=\"\""
      ]
    },
    {
      "cell_type": "code",
      "execution_count": 15,
      "metadata": {
        "id": "y4hboYz9yNyp"
      },
      "outputs": [
        {
          "name": "stdout",
          "output_type": "stream",
          "text": [
            "[[{'Version': 'AKJV', 'Book': 'Matthew', 'Chapter': '3', 'Verse': '15', 'Text': 'And Jesus answering said unto him, Suffer it to be so now: for thus it becometh us to fulfil all righteousness. Then he suffered him. ', 'Quote': 'And Jesus answering said unto him, Suffer it to be so now: for thus it becometh us to fulfil all righteousness.', 'Error': False}], [{'Version': 'AKJV', 'Book': 'Matthew', 'Chapter': '4', 'Verse': '4', 'Text': 'But he answered and said, It is written, Man shall not live by bread alone, but by every word that proceedeth out of the mouth of God.', 'Quote': 'But he answered and said, It is written, Man shall not live by bread alone, but by every word that proceedeth out of the mouth of God.', 'Error': True}], [{'Version': 'AKJV', 'Book': 'Matthew', 'Chapter': '4', 'Verse': '7', 'Text': 'Jesus said unto him, It is written again, Thou shalt not tempt the Lord thy God.', 'Quote': 'It is written again, Thou shalt not tempt the Lord thy God.', 'Error': False}], [{'Version': 'AKJV', 'Book': 'Matthew', 'Chapter': '4', 'Verse': '10', 'Text': 'Then saith Jesus unto him, Get thee hence, Satan: for it is written, Thou shalt worship the Lord thy God, and him only shalt thou serve. ', 'Quote': 'Then saith Jesus unto him, Get thee hence, Satan: for it is written, Thou shalt worship the Lord thy God, and him only shalt thou serve.', 'Error': True}], [{'Version': 'AKJV', 'Book': 'Matthew', 'Chapter': '4', 'Verse': '17', 'Text': 'From that time Jesus began to preach, and to say, Repent: for the kingdom of heaven is at hand.', 'Quote': 'And the disciples were with him.  \\n###\\n\\n From that time Jesus began to preach, and to say, Repent: for the kingdom of heaven is at hand.', 'Error': False}], [{'Version': 'AKJV', 'Book': 'Matthew', 'Chapter': '4', 'Verse': '19', 'Text': 'And he saith unto them, Follow me, and I will make you fishers of men. ', 'Quote': 'Follow me, and I will make you fishers of men.', 'Error': False}]]\n"
          ]
        }
      ],
      "source": [
        "print(out)"
      ]
    },
    {
      "cell_type": "code",
      "execution_count": null,
      "metadata": {},
      "outputs": [],
      "source": []
    }
  ],
  "metadata": {
    "colab": {
      "name": "digital Jesus quote extract with openai.ipynb",
      "provenance": []
    },
    "kernelspec": {
      "display_name": "Python 3.7.3 ('Digital_Jesus_quotes': venv)",
      "language": "python",
      "name": "python3"
    },
    "language_info": {
      "codemirror_mode": {
        "name": "ipython",
        "version": 3
      },
      "file_extension": ".py",
      "mimetype": "text/x-python",
      "name": "python",
      "nbconvert_exporter": "python",
      "pygments_lexer": "ipython3",
      "version": "3.7.3"
    },
    "vscode": {
      "interpreter": {
        "hash": "23da8d6f8eba00169b2adbfbc9e776b197664ebbd90990e7e2314d4e7adf57aa"
      }
    }
  },
  "nbformat": 4,
  "nbformat_minor": 0
}
